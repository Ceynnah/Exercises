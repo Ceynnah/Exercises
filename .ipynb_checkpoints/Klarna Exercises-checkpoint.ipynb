{
 "cells": [
  {
   "cell_type": "code",
   "execution_count": 53,
   "id": "e0ac6320",
   "metadata": {
    "ExecuteTime": {
     "end_time": "2022-03-16T13:24:21.506961Z",
     "start_time": "2022-03-16T13:24:20.498878Z"
    }
   },
   "outputs": [],
   "source": [
    "import pandas as pd\n",
    "import numpy as np\n",
    "import matplotlib.pyplot as plt\n",
    "from sklearn.model_selection import train_test_split"
   ]
  },
  {
   "cell_type": "code",
   "execution_count": 7,
   "id": "e7dc7ab5",
   "metadata": {
    "ExecuteTime": {
     "end_time": "2022-03-16T12:59:02.164991Z",
     "start_time": "2022-03-16T12:59:01.727381Z"
    }
   },
   "outputs": [],
   "source": [
    "data = pd.read_csv('/Users/alexandre.sena/code/Ceynnah/Exercises/Klarna/dataset.csv', sep = ';')"
   ]
  },
  {
   "cell_type": "code",
   "execution_count": 9,
   "id": "1a93fecd",
   "metadata": {
    "ExecuteTime": {
     "end_time": "2022-03-16T12:59:08.679820Z",
     "start_time": "2022-03-16T12:59:08.648839Z"
    },
    "scrolled": false
   },
   "outputs": [
    {
     "data": {
      "text/html": [
       "<div>\n",
       "<style scoped>\n",
       "    .dataframe tbody tr th:only-of-type {\n",
       "        vertical-align: middle;\n",
       "    }\n",
       "\n",
       "    .dataframe tbody tr th {\n",
       "        vertical-align: top;\n",
       "    }\n",
       "\n",
       "    .dataframe thead th {\n",
       "        text-align: right;\n",
       "    }\n",
       "</style>\n",
       "<table border=\"1\" class=\"dataframe\">\n",
       "  <thead>\n",
       "    <tr style=\"text-align: right;\">\n",
       "      <th></th>\n",
       "      <th>uuid</th>\n",
       "      <th>default</th>\n",
       "      <th>account_amount_added_12_24m</th>\n",
       "      <th>account_days_in_dc_12_24m</th>\n",
       "      <th>account_days_in_rem_12_24m</th>\n",
       "      <th>account_days_in_term_12_24m</th>\n",
       "      <th>account_incoming_debt_vs_paid_0_24m</th>\n",
       "      <th>account_status</th>\n",
       "      <th>account_worst_status_0_3m</th>\n",
       "      <th>account_worst_status_12_24m</th>\n",
       "      <th>...</th>\n",
       "      <th>status_3rd_last_archived_0_24m</th>\n",
       "      <th>status_max_archived_0_6_months</th>\n",
       "      <th>status_max_archived_0_12_months</th>\n",
       "      <th>status_max_archived_0_24_months</th>\n",
       "      <th>recovery_debt</th>\n",
       "      <th>sum_capital_paid_account_0_12m</th>\n",
       "      <th>sum_capital_paid_account_12_24m</th>\n",
       "      <th>sum_paid_inv_0_12m</th>\n",
       "      <th>time_hours</th>\n",
       "      <th>worst_status_active_inv</th>\n",
       "    </tr>\n",
       "  </thead>\n",
       "  <tbody>\n",
       "    <tr>\n",
       "      <th>0</th>\n",
       "      <td>63f69b2c-8b1c-4740-b78d-52ed9a4515ac</td>\n",
       "      <td>0.0</td>\n",
       "      <td>0</td>\n",
       "      <td>0.0</td>\n",
       "      <td>0.0</td>\n",
       "      <td>0.0</td>\n",
       "      <td>0.0</td>\n",
       "      <td>1.0</td>\n",
       "      <td>1.0</td>\n",
       "      <td>NaN</td>\n",
       "      <td>...</td>\n",
       "      <td>1</td>\n",
       "      <td>1</td>\n",
       "      <td>1</td>\n",
       "      <td>1</td>\n",
       "      <td>0</td>\n",
       "      <td>0</td>\n",
       "      <td>0</td>\n",
       "      <td>178839</td>\n",
       "      <td>9.653333</td>\n",
       "      <td>1.0</td>\n",
       "    </tr>\n",
       "    <tr>\n",
       "      <th>1</th>\n",
       "      <td>0e961183-8c15-4470-9a5e-07a1bd207661</td>\n",
       "      <td>0.0</td>\n",
       "      <td>0</td>\n",
       "      <td>0.0</td>\n",
       "      <td>0.0</td>\n",
       "      <td>0.0</td>\n",
       "      <td>NaN</td>\n",
       "      <td>1.0</td>\n",
       "      <td>1.0</td>\n",
       "      <td>1.0</td>\n",
       "      <td>...</td>\n",
       "      <td>1</td>\n",
       "      <td>1</td>\n",
       "      <td>2</td>\n",
       "      <td>2</td>\n",
       "      <td>0</td>\n",
       "      <td>0</td>\n",
       "      <td>0</td>\n",
       "      <td>49014</td>\n",
       "      <td>13.181389</td>\n",
       "      <td>NaN</td>\n",
       "    </tr>\n",
       "    <tr>\n",
       "      <th>2</th>\n",
       "      <td>d8edaae6-4368-44e0-941e-8328f203e64e</td>\n",
       "      <td>0.0</td>\n",
       "      <td>0</td>\n",
       "      <td>0.0</td>\n",
       "      <td>0.0</td>\n",
       "      <td>0.0</td>\n",
       "      <td>NaN</td>\n",
       "      <td>NaN</td>\n",
       "      <td>NaN</td>\n",
       "      <td>NaN</td>\n",
       "      <td>...</td>\n",
       "      <td>1</td>\n",
       "      <td>1</td>\n",
       "      <td>2</td>\n",
       "      <td>2</td>\n",
       "      <td>0</td>\n",
       "      <td>0</td>\n",
       "      <td>0</td>\n",
       "      <td>124839</td>\n",
       "      <td>11.561944</td>\n",
       "      <td>1.0</td>\n",
       "    </tr>\n",
       "    <tr>\n",
       "      <th>3</th>\n",
       "      <td>0095dfb6-a886-4e2a-b056-15ef45fdb0ef</td>\n",
       "      <td>0.0</td>\n",
       "      <td>0</td>\n",
       "      <td>NaN</td>\n",
       "      <td>NaN</td>\n",
       "      <td>NaN</td>\n",
       "      <td>NaN</td>\n",
       "      <td>NaN</td>\n",
       "      <td>NaN</td>\n",
       "      <td>NaN</td>\n",
       "      <td>...</td>\n",
       "      <td>1</td>\n",
       "      <td>1</td>\n",
       "      <td>1</td>\n",
       "      <td>1</td>\n",
       "      <td>0</td>\n",
       "      <td>0</td>\n",
       "      <td>0</td>\n",
       "      <td>324676</td>\n",
       "      <td>15.751111</td>\n",
       "      <td>1.0</td>\n",
       "    </tr>\n",
       "    <tr>\n",
       "      <th>4</th>\n",
       "      <td>c8f8b835-5647-4506-bf15-49105d8af30b</td>\n",
       "      <td>0.0</td>\n",
       "      <td>0</td>\n",
       "      <td>0.0</td>\n",
       "      <td>0.0</td>\n",
       "      <td>0.0</td>\n",
       "      <td>NaN</td>\n",
       "      <td>NaN</td>\n",
       "      <td>NaN</td>\n",
       "      <td>NaN</td>\n",
       "      <td>...</td>\n",
       "      <td>0</td>\n",
       "      <td>1</td>\n",
       "      <td>1</td>\n",
       "      <td>1</td>\n",
       "      <td>0</td>\n",
       "      <td>0</td>\n",
       "      <td>0</td>\n",
       "      <td>7100</td>\n",
       "      <td>12.698611</td>\n",
       "      <td>NaN</td>\n",
       "    </tr>\n",
       "  </tbody>\n",
       "</table>\n",
       "<p>5 rows × 43 columns</p>\n",
       "</div>"
      ],
      "text/plain": [
       "                                   uuid  default  account_amount_added_12_24m  \\\n",
       "0  63f69b2c-8b1c-4740-b78d-52ed9a4515ac      0.0                            0   \n",
       "1  0e961183-8c15-4470-9a5e-07a1bd207661      0.0                            0   \n",
       "2  d8edaae6-4368-44e0-941e-8328f203e64e      0.0                            0   \n",
       "3  0095dfb6-a886-4e2a-b056-15ef45fdb0ef      0.0                            0   \n",
       "4  c8f8b835-5647-4506-bf15-49105d8af30b      0.0                            0   \n",
       "\n",
       "   account_days_in_dc_12_24m  account_days_in_rem_12_24m  \\\n",
       "0                        0.0                         0.0   \n",
       "1                        0.0                         0.0   \n",
       "2                        0.0                         0.0   \n",
       "3                        NaN                         NaN   \n",
       "4                        0.0                         0.0   \n",
       "\n",
       "   account_days_in_term_12_24m  account_incoming_debt_vs_paid_0_24m  \\\n",
       "0                          0.0                                  0.0   \n",
       "1                          0.0                                  NaN   \n",
       "2                          0.0                                  NaN   \n",
       "3                          NaN                                  NaN   \n",
       "4                          0.0                                  NaN   \n",
       "\n",
       "   account_status  account_worst_status_0_3m  account_worst_status_12_24m  \\\n",
       "0             1.0                        1.0                          NaN   \n",
       "1             1.0                        1.0                          1.0   \n",
       "2             NaN                        NaN                          NaN   \n",
       "3             NaN                        NaN                          NaN   \n",
       "4             NaN                        NaN                          NaN   \n",
       "\n",
       "   ...  status_3rd_last_archived_0_24m  status_max_archived_0_6_months  \\\n",
       "0  ...                               1                               1   \n",
       "1  ...                               1                               1   \n",
       "2  ...                               1                               1   \n",
       "3  ...                               1                               1   \n",
       "4  ...                               0                               1   \n",
       "\n",
       "   status_max_archived_0_12_months  status_max_archived_0_24_months  \\\n",
       "0                                1                                1   \n",
       "1                                2                                2   \n",
       "2                                2                                2   \n",
       "3                                1                                1   \n",
       "4                                1                                1   \n",
       "\n",
       "   recovery_debt sum_capital_paid_account_0_12m  \\\n",
       "0              0                              0   \n",
       "1              0                              0   \n",
       "2              0                              0   \n",
       "3              0                              0   \n",
       "4              0                              0   \n",
       "\n",
       "  sum_capital_paid_account_12_24m  sum_paid_inv_0_12m  time_hours  \\\n",
       "0                               0              178839    9.653333   \n",
       "1                               0               49014   13.181389   \n",
       "2                               0              124839   11.561944   \n",
       "3                               0              324676   15.751111   \n",
       "4                               0                7100   12.698611   \n",
       "\n",
       "   worst_status_active_inv  \n",
       "0                      1.0  \n",
       "1                      NaN  \n",
       "2                      1.0  \n",
       "3                      1.0  \n",
       "4                      NaN  \n",
       "\n",
       "[5 rows x 43 columns]"
      ]
     },
     "execution_count": 9,
     "metadata": {},
     "output_type": "execute_result"
    }
   ],
   "source": [
    "data.head()"
   ]
  },
  {
   "cell_type": "code",
   "execution_count": 13,
   "id": "1ac37d74",
   "metadata": {
    "ExecuteTime": {
     "end_time": "2022-03-16T13:02:45.187687Z",
     "start_time": "2022-03-16T13:02:45.165652Z"
    }
   },
   "outputs": [
    {
     "data": {
      "text/plain": [
       "array([ 0.,  1., nan])"
      ]
     },
     "execution_count": 13,
     "metadata": {},
     "output_type": "execute_result"
    }
   ],
   "source": [
    "data['default']"
   ]
  },
  {
   "cell_type": "code",
   "execution_count": 10,
   "id": "0509d398",
   "metadata": {
    "ExecuteTime": {
     "end_time": "2022-03-16T12:59:25.988279Z",
     "start_time": "2022-03-16T12:59:25.888108Z"
    },
    "collapsed": true
   },
   "outputs": [
    {
     "data": {
      "text/plain": [
       "uuid                                       0\n",
       "default                                10000\n",
       "account_amount_added_12_24m                0\n",
       "account_days_in_dc_12_24m              11836\n",
       "account_days_in_rem_12_24m             11836\n",
       "account_days_in_term_12_24m            11836\n",
       "account_incoming_debt_vs_paid_0_24m    59315\n",
       "account_status                         54373\n",
       "account_worst_status_0_3m              54373\n",
       "account_worst_status_12_24m            66761\n",
       "account_worst_status_3_6m              57702\n",
       "account_worst_status_6_12m             60350\n",
       "age                                        0\n",
       "avg_payment_span_0_12m                 23836\n",
       "avg_payment_span_0_3m                  49305\n",
       "merchant_category                          0\n",
       "merchant_group                             0\n",
       "has_paid                                   0\n",
       "max_paid_inv_0_12m                         0\n",
       "max_paid_inv_0_24m                         0\n",
       "name_in_email                              0\n",
       "num_active_div_by_paid_inv_0_12m       22939\n",
       "num_active_inv                             0\n",
       "num_arch_dc_0_12m                          0\n",
       "num_arch_dc_12_24m                         0\n",
       "num_arch_ok_0_12m                          0\n",
       "num_arch_ok_12_24m                         0\n",
       "num_arch_rem_0_12m                         0\n",
       "num_arch_written_off_0_12m             18078\n",
       "num_arch_written_off_12_24m            18078\n",
       "num_unpaid_bills                           0\n",
       "status_last_archived_0_24m                 0\n",
       "status_2nd_last_archived_0_24m             0\n",
       "status_3rd_last_archived_0_24m             0\n",
       "status_max_archived_0_6_months             0\n",
       "status_max_archived_0_12_months            0\n",
       "status_max_archived_0_24_months            0\n",
       "recovery_debt                              0\n",
       "sum_capital_paid_account_0_12m             0\n",
       "sum_capital_paid_account_12_24m            0\n",
       "sum_paid_inv_0_12m                         0\n",
       "time_hours                                 0\n",
       "worst_status_active_inv                69515\n",
       "dtype: int64"
      ]
     },
     "execution_count": 10,
     "metadata": {},
     "output_type": "execute_result"
    }
   ],
   "source": [
    "data.isna().sum()"
   ]
  },
  {
   "cell_type": "code",
   "execution_count": 14,
   "id": "2674880d",
   "metadata": {
    "ExecuteTime": {
     "end_time": "2022-03-16T13:08:29.286368Z",
     "start_time": "2022-03-16T13:08:29.267899Z"
    },
    "collapsed": true
   },
   "outputs": [
    {
     "data": {
      "text/plain": [
       "Index(['uuid', 'default', 'account_amount_added_12_24m',\n",
       "       'account_days_in_dc_12_24m', 'account_days_in_rem_12_24m',\n",
       "       'account_days_in_term_12_24m', 'account_incoming_debt_vs_paid_0_24m',\n",
       "       'account_status', 'account_worst_status_0_3m',\n",
       "       'account_worst_status_12_24m', 'account_worst_status_3_6m',\n",
       "       'account_worst_status_6_12m', 'age', 'avg_payment_span_0_12m',\n",
       "       'avg_payment_span_0_3m', 'merchant_category', 'merchant_group',\n",
       "       'has_paid', 'max_paid_inv_0_12m', 'max_paid_inv_0_24m', 'name_in_email',\n",
       "       'num_active_div_by_paid_inv_0_12m', 'num_active_inv',\n",
       "       'num_arch_dc_0_12m', 'num_arch_dc_12_24m', 'num_arch_ok_0_12m',\n",
       "       'num_arch_ok_12_24m', 'num_arch_rem_0_12m',\n",
       "       'num_arch_written_off_0_12m', 'num_arch_written_off_12_24m',\n",
       "       'num_unpaid_bills', 'status_last_archived_0_24m',\n",
       "       'status_2nd_last_archived_0_24m', 'status_3rd_last_archived_0_24m',\n",
       "       'status_max_archived_0_6_months', 'status_max_archived_0_12_months',\n",
       "       'status_max_archived_0_24_months', 'recovery_debt',\n",
       "       'sum_capital_paid_account_0_12m', 'sum_capital_paid_account_12_24m',\n",
       "       'sum_paid_inv_0_12m', 'time_hours', 'worst_status_active_inv'],\n",
       "      dtype='object')"
      ]
     },
     "execution_count": 14,
     "metadata": {},
     "output_type": "execute_result"
    }
   ],
   "source": [
    "data.columns"
   ]
  },
  {
   "cell_type": "code",
   "execution_count": 88,
   "id": "325036df",
   "metadata": {
    "ExecuteTime": {
     "end_time": "2022-03-16T13:31:22.078195Z",
     "start_time": "2022-03-16T13:31:22.059941Z"
    }
   },
   "outputs": [],
   "source": [
    "new_data = data.drop(columns=['account_incoming_debt_vs_paid_0_24m',\n",
    "       'account_status', 'account_worst_status_0_3m',\n",
    "       'account_worst_status_12_24m', 'account_worst_status_3_6m',\n",
    "       'account_worst_status_6_12m','worst_status_active_inv','avg_payment_span_0_3m', 'num_arch_written_off_12_24m', 'num_arch_written_off_0_12m', 'avg_payment_span_0_12m'])"
   ]
  },
  {
   "cell_type": "code",
   "execution_count": 89,
   "id": "1e00d08e",
   "metadata": {
    "ExecuteTime": {
     "end_time": "2022-03-16T13:31:22.859335Z",
     "start_time": "2022-03-16T13:31:22.738961Z"
    }
   },
   "outputs": [
    {
     "data": {
      "text/plain": [
       "uuid                                    0\n",
       "sum_capital_paid_account_12_24m         0\n",
       "sum_capital_paid_account_0_12m          0\n",
       "recovery_debt                           0\n",
       "status_max_archived_0_24_months         0\n",
       "status_max_archived_0_12_months         0\n",
       "status_max_archived_0_6_months          0\n",
       "status_3rd_last_archived_0_24m          0\n",
       "status_2nd_last_archived_0_24m          0\n",
       "status_last_archived_0_24m              0\n",
       "num_unpaid_bills                        0\n",
       "num_arch_rem_0_12m                      0\n",
       "num_arch_ok_12_24m                      0\n",
       "num_arch_ok_0_12m                       0\n",
       "num_arch_dc_12_24m                      0\n",
       "num_arch_dc_0_12m                       0\n",
       "num_active_inv                          0\n",
       "name_in_email                           0\n",
       "max_paid_inv_0_24m                      0\n",
       "max_paid_inv_0_12m                      0\n",
       "has_paid                                0\n",
       "merchant_group                          0\n",
       "merchant_category                       0\n",
       "age                                     0\n",
       "account_amount_added_12_24m             0\n",
       "sum_paid_inv_0_12m                      0\n",
       "time_hours                              0\n",
       "default                             10000\n",
       "account_days_in_term_12_24m         11836\n",
       "account_days_in_rem_12_24m          11836\n",
       "account_days_in_dc_12_24m           11836\n",
       "num_active_div_by_paid_inv_0_12m    22939\n",
       "dtype: int64"
      ]
     },
     "execution_count": 89,
     "metadata": {},
     "output_type": "execute_result"
    }
   ],
   "source": [
    "new_data.isna().sum().sort_values()"
   ]
  },
  {
   "cell_type": "code",
   "execution_count": 90,
   "id": "5e5a52ad",
   "metadata": {
    "ExecuteTime": {
     "end_time": "2022-03-16T13:31:28.172350Z",
     "start_time": "2022-03-16T13:31:28.149235Z"
    }
   },
   "outputs": [],
   "source": [
    "new_data['account_days_in_term_12_24m'].replace(np.nan, 0, inplace=True)\n",
    "new_data['account_days_in_rem_12_24m'].replace(np.nan, new_data['account_days_in_term_12_24m'].mean(),inplace=True)\n",
    "new_data['account_days_in_dc_12_24m'].replace(np.nan, 0, inplace=True)\n",
    "new_data['num_active_div_by_paid_inv_0_12m'].replace(np.nan, new_data['account_days_in_term_12_24m'].mean(), inplace=True)"
   ]
  },
  {
   "cell_type": "code",
   "execution_count": 92,
   "id": "76584bc2",
   "metadata": {
    "ExecuteTime": {
     "end_time": "2022-03-16T13:31:37.669770Z",
     "start_time": "2022-03-16T13:31:37.650467Z"
    },
    "scrolled": true
   },
   "outputs": [
    {
     "data": {
      "text/plain": [
       "uuid                                    0\n",
       "default                             10000\n",
       "account_amount_added_12_24m             0\n",
       "account_days_in_dc_12_24m               0\n",
       "account_days_in_rem_12_24m              0\n",
       "account_days_in_term_12_24m             0\n",
       "age                                     0\n",
       "merchant_category                       0\n",
       "merchant_group                          0\n",
       "has_paid                                0\n",
       "max_paid_inv_0_12m                      0\n",
       "max_paid_inv_0_24m                      0\n",
       "name_in_email                           0\n",
       "num_active_div_by_paid_inv_0_12m        0\n",
       "num_active_inv                          0\n",
       "num_arch_dc_0_12m                       0\n",
       "num_arch_dc_12_24m                      0\n",
       "num_arch_ok_0_12m                       0\n",
       "num_arch_ok_12_24m                      0\n",
       "num_arch_rem_0_12m                      0\n",
       "num_unpaid_bills                        0\n",
       "status_last_archived_0_24m              0\n",
       "status_2nd_last_archived_0_24m          0\n",
       "status_3rd_last_archived_0_24m          0\n",
       "status_max_archived_0_6_months          0\n",
       "status_max_archived_0_12_months         0\n",
       "status_max_archived_0_24_months         0\n",
       "recovery_debt                           0\n",
       "sum_capital_paid_account_0_12m          0\n",
       "sum_capital_paid_account_12_24m         0\n",
       "sum_paid_inv_0_12m                      0\n",
       "time_hours                              0\n",
       "dtype: int64"
      ]
     },
     "execution_count": 92,
     "metadata": {},
     "output_type": "execute_result"
    }
   ],
   "source": [
    "test_data = new_data[new_data['default'].isna()]\n",
    "test_data.isna().sum()"
   ]
  },
  {
   "cell_type": "code",
   "execution_count": 95,
   "id": "82432970",
   "metadata": {
    "ExecuteTime": {
     "end_time": "2022-03-16T13:32:18.212430Z",
     "start_time": "2022-03-16T13:32:18.204946Z"
    }
   },
   "outputs": [],
   "source": [
    "X_test = test_data.drop(columns = ['default'])\n",
    "y_test = test_data['default']"
   ]
  },
  {
   "cell_type": "code",
   "execution_count": 100,
   "id": "c081b6ba",
   "metadata": {
    "ExecuteTime": {
     "end_time": "2022-03-16T13:33:18.397388Z",
     "start_time": "2022-03-16T13:33:18.369434Z"
    }
   },
   "outputs": [
    {
     "data": {
      "text/plain": [
       "89976"
      ]
     },
     "execution_count": 100,
     "metadata": {},
     "output_type": "execute_result"
    }
   ],
   "source": [
    "train_data = new_data[new_data['default'].notna()]\n",
    "len(train_data.index)"
   ]
  },
  {
   "cell_type": "code",
   "execution_count": null,
   "id": "b1b10ef4",
   "metadata": {},
   "outputs": [],
   "source": [
    "X_test = test_data.drop(columns = ['default'])\n",
    "y_test = test_data['default']"
   ]
  }
 ],
 "metadata": {
  "kernelspec": {
   "display_name": "Python 3 (ipykernel)",
   "language": "python",
   "name": "python3"
  },
  "language_info": {
   "codemirror_mode": {
    "name": "ipython",
    "version": 3
   },
   "file_extension": ".py",
   "mimetype": "text/x-python",
   "name": "python",
   "nbconvert_exporter": "python",
   "pygments_lexer": "ipython3",
   "version": "3.8.12"
  },
  "toc": {
   "base_numbering": 1,
   "nav_menu": {},
   "number_sections": true,
   "sideBar": true,
   "skip_h1_title": false,
   "title_cell": "Table of Contents",
   "title_sidebar": "Contents",
   "toc_cell": false,
   "toc_position": {},
   "toc_section_display": true,
   "toc_window_display": false
  }
 },
 "nbformat": 4,
 "nbformat_minor": 5
}
